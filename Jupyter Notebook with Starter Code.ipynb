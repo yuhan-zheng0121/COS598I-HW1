{
 "cells": [
  {
   "cell_type": "markdown",
   "id": "SkvLfqg_Igym",
   "metadata": {
    "id": "SkvLfqg_Igym"
   },
   "source": [
    "# COS598I Spring 2024: Responsible AI in Societal Deployments\n",
    "**Authors:** Lelia Marie Hampton, Prof. Marzyeh Ghassemi\n",
    "\n",
    "Assignment adapted from MIT 6.882: Ethical Machine Learning in Human Deployments\n"
   ]
  },
  {
   "cell_type": "markdown",
   "id": "kLBLWHjIIgyp",
   "metadata": {
    "id": "kLBLWHjIIgyp"
   },
   "source": [
    "## Assignment 2: Algorithmic Fairness Exploration"
   ]
  },
  {
   "cell_type": "markdown",
   "id": "KZO24K6BIgyq",
   "metadata": {
    "id": "KZO24K6BIgyq"
   },
   "source": [
    "#### Guidelines\n",
    "\n",
    "Add helper functions as needed. **Do NOT use outside libraries** such as AI Fairness 360 Toolkit or What-If Toolkit. It is important to learn the mechanics of the underlying approaches.\n",
    "\n",
    "Please include comments (both block comments and inline comments) so that we can easily understand what you're doing.\n",
    "\n",
    "#### Resources\n",
    "\n",
    "[Fairness Definitions Explained](https://fairware.cs.umass.edu/papers/Verma.pdf)\n",
    "\n",
    "[Taiwan Default of Credit Card Clients](https://archive.ics.uci.edu/dataset/350/default+of+credit+card+clients)\n",
    "\n",
    "- [Paper](https://bradzzz.gitbooks.io/ga-dsi-seattle/content/dsi/dsi_05_classification_databases/2.1-lesson/assets/datasets/DefaultCreditCardClients_yeh_2009.pdf) See Section 3.1 for description of the dataset features\n",
    "\n",
    "- [Dataset](https://archive.ics.uci.edu/static/public/350/default+of+credit+card+clients.zip) You can download the dataset from this URL or from the Ed Resources Tab\n",
    "\n",
    "[Machine Learning Glossary: Fairness](https://developers.google.com/machine-learning/glossary/fairness)\n",
    "\n",
    "[Chapter 4. Fairness Pre-Processing](https://www.oreilly.com/library/view/practical-fairness/9781492075721/ch04.html)"
   ]
  },
  {
   "cell_type": "code",
   "execution_count": 1,
   "id": "ItWUWfZFIgyr",
   "metadata": {
    "id": "ItWUWfZFIgyr"
   },
   "outputs": [],
   "source": [
    "import pandas as pd\n",
    "import numpy as np\n",
    "import matplotlib.pyplot as plt\n",
    "from sklearn.compose import ColumnTransformer\n",
    "from sklearn.preprocessing import OneHotEncoder, LabelEncoder, StandardScaler\n",
    "from sklearn.linear_model import LogisticRegression\n",
    "from sklearn.model_selection import cross_val_predict, RepeatedStratifiedKFold\n",
    "from sklearn.compose import ColumnTransformer\n",
    "from sklearn.linear_model import LogisticRegression\n",
    "from sklearn.metrics import accuracy_score, confusion_matrix, roc_auc_score\n",
    "from sklearn.model_selection import train_test_split"
   ]
  },
  {
   "cell_type": "code",
   "execution_count": 2,
   "id": "tk24Xq0LWuEo",
   "metadata": {
    "id": "tk24Xq0LWuEo"
   },
   "outputs": [],
   "source": [
    "# preprocessing code for Taiwan Default dataset\n",
    "\n",
    "def load_dataset(filename='default of credit card clients.xls'):\n",
    "    # Load the dataset\n",
    "    df = pd.read_excel(filename, header=1)\n",
    "\n",
    "    # Define categorical and numerical features\n",
    "    categorical_features = ['SEX', 'EDUCATION', 'MARRIAGE', 'PAY_0', 'PAY_2', 'PAY_3', 'PAY_4', 'PAY_5', 'PAY_6']\n",
    "    numerical_features = ['LIMIT_BAL', 'AGE', 'BILL_AMT1', 'BILL_AMT2', 'BILL_AMT3', 'BILL_AMT4', 'BILL_AMT5', 'BILL_AMT6',\n",
    "                          'PAY_AMT1', 'PAY_AMT2', 'PAY_AMT3', 'PAY_AMT4', 'PAY_AMT5', 'PAY_AMT6']\n",
    "\n",
    "    # Separate features and target variable\n",
    "    X = df.drop(columns=['ID', 'default payment next month'])\n",
    "    y = df['default payment next month']\n",
    "\n",
    "    # Preprocessing: One-hot encoding for categorical variables and scaling for numerical variables\n",
    "    preprocessor = ColumnTransformer(\n",
    "        transformers=[\n",
    "            ('num', StandardScaler(), numerical_features),\n",
    "            ('cat', OneHotEncoder(handle_unknown='ignore'), categorical_features)\n",
    "        ])\n",
    "\n",
    "    # Extract gender as a binary attribute before any transformations\n",
    "    gender_binary = df['SEX'].apply(lambda x: 1 if x == 2 else 0)\n",
    "\n",
    "    # Split the dataset into training and testing sets with a fixed random state for reproducibility\n",
    "    X_train_full, X_test_full, y_train, y_test, gender_train, gender_test = train_test_split(X, y, gender_binary, test_size=0.2, random_state=42)\n",
    "\n",
    "    # Apply preprocessing to training and testing set separately\n",
    "    X_train_processed = preprocessor.fit_transform(X_train_full)\n",
    "    X_test_processed = preprocessor.transform(X_test_full)\n",
    "\n",
    "    # Return processed training and testing sets along with gender attributes\n",
    "    return X_train_processed, X_test_processed, y_train, y_test, gender_train.values, gender_test.values"
   ]
  },
  {
   "cell_type": "code",
   "execution_count": 3,
   "id": "OJ7itSmHWt0e",
   "metadata": {
    "id": "OJ7itSmHWt0e"
   },
   "outputs": [],
   "source": [
    "def train_and_predict_model(X_train, X_test, y_train, weights=None):\n",
    "\n",
    "    # Initialize the Logistic Regression model\n",
    "    model = LogisticRegression(max_iter=10000, random_state=0)\n",
    "\n",
    "    # Train the Logistic Regression model\n",
    "    model.fit(X_train, y_train, sample_weight=weights)\n",
    "\n",
    "    # Predict on the testing set\n",
    "    y_pred = model.predict(X_test)\n",
    "    y_pred_proba = model.predict_proba(X_test)[:, 1]\n",
    "\n",
    "    return y_pred, y_pred_proba"
   ]
  },
  {
   "cell_type": "code",
   "execution_count": 4,
   "id": "EnOBmc7kYHBa",
   "metadata": {
    "id": "EnOBmc7kYHBa"
   },
   "outputs": [
    {
     "name": "stdout",
     "output_type": "stream",
     "text": [
      "Accuracy: 0.8188333333333333 \n",
      "AUC: 0.767143031941178\n"
     ]
    }
   ],
   "source": [
    "# preprocess and load the data\n",
    "X_train, X_test, y_train, y_test, gender_train, gender_test = load_dataset()\n",
    "\n",
    "# train a model and obtain predictions on the test set\n",
    "y_pred, y_pred_proba = train_and_predict_model(X_train, X_test, y_train)\n",
    "\n",
    "# Evaluate the model\n",
    "accuracy = accuracy_score(y_test, y_pred)\n",
    "auc = roc_auc_score(y_test, y_pred_proba)\n",
    "\n",
    "print('Accuracy:', accuracy, '\\nAUC:', auc)"
   ]
  },
  {
   "cell_type": "code",
   "execution_count": 5,
   "id": "RYga00d2Igyu",
   "metadata": {
    "id": "RYga00d2Igyu"
   },
   "outputs": [],
   "source": [
    "def determine_confusion_matrix(df):\n",
    "    if df['y_true'] == df['y_pred'] == 1:\n",
    "        return 'TP'\n",
    "    elif df['y_pred'] == 1 and df['y_true'] != df['y_pred']:\n",
    "        return 'FP'\n",
    "    elif df['y_true'] == df['y_pred'] == 0:\n",
    "        return 'TN'\n",
    "    else:\n",
    "        return 'FN'"
   ]
  },
  {
   "cell_type": "code",
   "execution_count": 6,
   "id": "I_bzHiL1Igyu",
   "metadata": {
    "id": "I_bzHiL1Igyu"
   },
   "outputs": [],
   "source": [
    "# Female = 1 and Male = 0\n",
    "fair_df = pd.DataFrame({'sex': gender_test, 'y_true': y_test, 'y_pred': y_pred})\n",
    "fair_df['confusion_matrix'] = fair_df[['y_true','y_pred']].apply(determine_confusion_matrix, axis=1)"
   ]
  },
  {
   "cell_type": "code",
   "execution_count": 7,
   "id": "Q4uQAbctIgyu",
   "metadata": {
    "id": "Q4uQAbctIgyu"
   },
   "outputs": [
    {
     "data": {
      "text/html": [
       "<div>\n",
       "<style scoped>\n",
       "    .dataframe tbody tr th:only-of-type {\n",
       "        vertical-align: middle;\n",
       "    }\n",
       "\n",
       "    .dataframe tbody tr th {\n",
       "        vertical-align: top;\n",
       "    }\n",
       "\n",
       "    .dataframe thead th {\n",
       "        text-align: right;\n",
       "    }\n",
       "</style>\n",
       "<table border=\"1\" class=\"dataframe\">\n",
       "  <thead>\n",
       "    <tr style=\"text-align: right;\">\n",
       "      <th></th>\n",
       "      <th>sex</th>\n",
       "      <th>y_true</th>\n",
       "      <th>y_pred</th>\n",
       "      <th>confusion_matrix</th>\n",
       "    </tr>\n",
       "  </thead>\n",
       "  <tbody>\n",
       "    <tr>\n",
       "      <th>2308</th>\n",
       "      <td>0</td>\n",
       "      <td>0</td>\n",
       "      <td>0</td>\n",
       "      <td>TN</td>\n",
       "    </tr>\n",
       "    <tr>\n",
       "      <th>22404</th>\n",
       "      <td>1</td>\n",
       "      <td>0</td>\n",
       "      <td>0</td>\n",
       "      <td>TN</td>\n",
       "    </tr>\n",
       "    <tr>\n",
       "      <th>23397</th>\n",
       "      <td>1</td>\n",
       "      <td>0</td>\n",
       "      <td>0</td>\n",
       "      <td>TN</td>\n",
       "    </tr>\n",
       "    <tr>\n",
       "      <th>25058</th>\n",
       "      <td>0</td>\n",
       "      <td>0</td>\n",
       "      <td>0</td>\n",
       "      <td>TN</td>\n",
       "    </tr>\n",
       "    <tr>\n",
       "      <th>2664</th>\n",
       "      <td>1</td>\n",
       "      <td>1</td>\n",
       "      <td>0</td>\n",
       "      <td>FN</td>\n",
       "    </tr>\n",
       "  </tbody>\n",
       "</table>\n",
       "</div>"
      ],
      "text/plain": [
       "       sex  y_true  y_pred confusion_matrix\n",
       "2308     0       0       0               TN\n",
       "22404    1       0       0               TN\n",
       "23397    1       0       0               TN\n",
       "25058    0       0       0               TN\n",
       "2664     1       1       0               FN"
      ]
     },
     "execution_count": 7,
     "metadata": {},
     "output_type": "execute_result"
    }
   ],
   "source": [
    "fair_df.head()"
   ]
  },
  {
   "cell_type": "code",
   "execution_count": 8,
   "id": "YB8dReguIgyv",
   "metadata": {
    "id": "YB8dReguIgyv"
   },
   "outputs": [
    {
     "data": {
      "text/plain": [
       "sex\n",
       "1    3594\n",
       "0    2406\n",
       "Name: count, dtype: int64"
      ]
     },
     "execution_count": 8,
     "metadata": {},
     "output_type": "execute_result"
    }
   ],
   "source": [
    "# 1 stand for female and 0 is male\n",
    "fair_df['sex'].value_counts()"
   ]
  },
  {
   "cell_type": "markdown",
   "id": "gJ7MO-ujIgyv",
   "metadata": {
    "id": "gJ7MO-ujIgyv"
   },
   "source": [
    "## Q1) Detecting Algorithmic Bias through Fairness Measurements and Definitions\n",
    "Fill in the code for the fairness definitions."
   ]
  },
  {
   "cell_type": "markdown",
   "id": "_Vmf6nqcIgyv",
   "metadata": {
    "id": "_Vmf6nqcIgyv"
   },
   "source": [
    "#### Statistical Parity (Demographic Parity) **5 points**\n",
    "A classifier satisfies this definition if subjects in both protected and unprotected groups have equal probability of being assigned to the positive predicted class."
   ]
  },
  {
   "cell_type": "markdown",
   "id": "21-YzhbaIgyv",
   "metadata": {
    "id": "21-YzhbaIgyv"
   },
   "source": [
    "$$P(y_{pred} = 1|G = male) = P(y_{pred} = 1|G = female )$$"
   ]
  },
  {
   "cell_type": "markdown",
   "id": "UrnmJhUnIgyv",
   "metadata": {
    "id": "UrnmJhUnIgyv"
   },
   "source": [
    "Recall the formula for conditional probability: $P(B|A)=\\frac{P(A \\cap B)}{P(A)}$"
   ]
  },
  {
   "cell_type": "code",
   "execution_count": 9,
   "id": "GiQDHgf3Igyv",
   "metadata": {
    "id": "GiQDHgf3Igyv"
   },
   "outputs": [],
   "source": [
    "def statistical_parity(df):\n",
    "    \"\"\"\n",
    "    TODO: Add your code here\n",
    "    \"\"\"\n",
    "    female_positive = df[(df['sex'] == 1) & (df['y_pred'] == 1)].shape[0]\n",
    "    female_positive_prob = female_positive / (df[(df['sex'] == 1)].shape[0])\n",
    "    \n",
    "    male_positive = df[(df['sex'] == 0) & (df['y_pred'] == 1)].shape[0]\n",
    "    male_positive_prob = male_positive / (df[(df['sex'] == 0)].shape[0])\n",
    "\n",
    "    print('Female Probability of Positive Predictions: %.3f' % female_positive_prob)\n",
    "    print('Male Probability of Positive Predictions: %.3f' % male_positive_prob)\n",
    "    \n",
    "    abs_difference = abs(female_positive_prob - male_positive_prob)\n",
    "    print('Achieves Statistical Parity: %r' % (abs_difference < 0.001))"
   ]
  },
  {
   "cell_type": "code",
   "execution_count": 10,
   "id": "SM5xBEDRIgyv",
   "metadata": {
    "id": "SM5xBEDRIgyv"
   },
   "outputs": [
    {
     "name": "stdout",
     "output_type": "stream",
     "text": [
      "Female Probability of Positive Predictions: 0.108\n",
      "Male Probability of Positive Predictions: 0.121\n",
      "Achieves Statistical Parity: False\n"
     ]
    }
   ],
   "source": [
    "statistical_parity(fair_df)"
   ]
  },
  {
   "cell_type": "markdown",
   "id": "53HK_IFRIgyw",
   "metadata": {
    "id": "53HK_IFRIgyw"
   },
   "source": [
    "#### Predictive Value Parity **5 points**\n",
    "Positive predictive value (PPV): the fraction of positive cases correctly predicted to be in the positive class out of all predicted positive cases.\n",
    "$$\\frac{TP}{TP+FP}$$\n",
    "A classifier satisfies this definition if both protected and unprotected groups have equal PPV – the probability of a subject with positive predictive value to truly belong to the positive class.\n",
    "$$ P(y_{true}=1|y_{pred} = 1,G = male) = P(y_{true} = 1|y_{pred} = 1,G = female ) $$"
   ]
  },
  {
   "cell_type": "code",
   "execution_count": 11,
   "id": "SC6xkQKWIgyw",
   "metadata": {
    "id": "SC6xkQKWIgyw"
   },
   "outputs": [],
   "source": [
    "def predictive_parity(df):\n",
    "    \"\"\"\n",
    "    TODO: Add your code here\n",
    "    \"\"\"\n",
    "    female_TP = df[(df['sex'] == 1) & (df['confusion_matrix'] == 'TP')].shape[0]\n",
    "    PPV_female = female_TP / (df[(df['sex'] == 1) & (df['y_pred'] == 1)].shape[0])\n",
    "    \n",
    "    male_TP = df[(df['sex'] == 0) & (df['confusion_matrix'] == 'TP')].shape[0]\n",
    "    PPV_male = male_TP / (df[(df['sex'] == 0) & (df['y_pred'] == 1)].shape[0])\n",
    "\n",
    "    print('Female Probability of True Positive Predictions: %.3f' % PPV_female)\n",
    "    print('Male Probability of True Positive Predictions: %.3f' % PPV_male)\n",
    "    \n",
    "    abs_difference = abs(PPV_female - PPV_male)\n",
    "    print('Achieves Predictive Parity: %r' % (abs_difference < 0.001))"
   ]
  },
  {
   "cell_type": "code",
   "execution_count": 12,
   "id": "xQNAaumYIgyw",
   "metadata": {
    "id": "xQNAaumYIgyw"
   },
   "outputs": [
    {
     "name": "stdout",
     "output_type": "stream",
     "text": [
      "Female Probability of True Positive Predictions: 0.667\n",
      "Male Probability of True Positive Predictions: 0.667\n",
      "Achieves Predictive Parity: True\n"
     ]
    }
   ],
   "source": [
    "predictive_parity(fair_df)"
   ]
  },
  {
   "cell_type": "markdown",
   "id": "EW84QjiTIgyw",
   "metadata": {
    "id": "EW84QjiTIgyw"
   },
   "source": [
    "#### Equalized Odds (Error Rate Balance) **5 points**\n",
    "**False Positive Error Rate Balance**: A classifier satisfies this definition if both protected and unprotected groups have equal False Positive Rate (FPR) – the probability of a subject in the negative class to have a positive predictive value.\n",
    "$$P(y_{pred} = 1|y_{true} = 0,G = male) = P(y_{pred} = 1|y_{true} = 0,G = female) $$\n",
    "**False Negative Error Rate Balance (Equal Opportunity)**: A classifier satisfies this definition if both protected and unprotected groups have equal False Negative Rate (FNR) – the probability of a subject in a positive class to have a negative predictive value.\n",
    "$$P(y_{pred} = 0|y_{true} = 1,G = male) = P(y_{pred} = 0|y_{true} = 1,G = female)$$\n",
    "The definition of equalized odds combines the previous two: a classifier satisfies the definition if protected and unprotected groups have equal True Positive Rate (TPR) and equal FPR. Mathematically, it is equivalent to the conjunction of conditions for false positive error rate balance and false negative error rate balance definitions given above.\n",
    "$$P(y_{pred} = 1|y_{true} = i,G = male) = P(y_{pred}=1|y_{true}=i,G=female),i \\in 0,1$$"
   ]
  },
  {
   "cell_type": "code",
   "execution_count": 13,
   "id": "QhSgwOosIgyw",
   "metadata": {
    "id": "QhSgwOosIgyw"
   },
   "outputs": [],
   "source": [
    "def equalized_odds(df):\n",
    "    \"\"\"\n",
    "    TODO: Add your code here\n",
    "    \"\"\"\n",
    "    # FNR = FN/(FN+TP) = FN/(all-positive-true-label)\n",
    "    female_fn = df[(df['sex'] == 1) & (df['confusion_matrix'] == 'FN')].shape[0]\n",
    "    fnr_female = female_fn / (df[(df['sex'] == 1) & (df['y_true'] == 1)].shape[0])\n",
    "    male_fn = df[(df['sex'] == 0) & (df['confusion_matrix'] == 'FN')].shape[0]\n",
    "    fnr_male = male_fn / (df[(df['sex'] == 0) & (df['y_true'] == 1)].shape[0])\n",
    "    \n",
    "    # FPR = FP/(FP+TN) = FN/(all-negative-true-label)\n",
    "    female_fp = df[(df['sex'] == 1) & (df['confusion_matrix'] == 'FP')].shape[0]\n",
    "    fpr_female = female_fp / (df[(df['sex'] == 1) & (df['y_true'] == 0)].shape[0])\n",
    "    male_fp = df[(df['sex'] == 0) & (df['confusion_matrix'] == 'FP')].shape[0]\n",
    "    fpr_male = male_fp / (df[(df['sex'] == 0) & (df['y_true'] == 0)].shape[0])\n",
    "\n",
    "    print('Probability of Credit-Worthy Female Predicted Not Credit-Worthy: %.3f' % fnr_female)\n",
    "    print('Probability of Credit-Worthy Male Predicted Not Credit-Worthy: %.3f' % fnr_male)\n",
    "    \n",
    "    abs_difference_fnr = abs(fnr_female - fnr_male)\n",
    "    print('Achieves Equality of Non Credit Worthy Prediction: %r' % (abs_difference_fnr < 0.001))\n",
    "    \n",
    "    print('Probability of Non Credit-Worthy Female Predicted Credit-Worthy: %.3f' % fpr_female)\n",
    "    print('Probability of Non Credit-Worthy Male Predicted Credit-Worthy: %.3f' % fpr_male)\n",
    "    \n",
    "    abs_difference_fpr = abs(fnr_female - fnr_male)\n",
    "    print('Achieves Equality of Credit Worthy Prediction: %r' % (abs_difference_fpr < 0.001))"
   ]
  },
  {
   "cell_type": "code",
   "execution_count": 14,
   "id": "q3yjoIXWIgyw",
   "metadata": {
    "id": "q3yjoIXWIgyw"
   },
   "outputs": [
    {
     "name": "stdout",
     "output_type": "stream",
     "text": [
      "Probability of Credit-Worthy Female Predicted Not Credit-Worthy: 0.657\n",
      "Probability of Credit-Worthy Male Predicted Not Credit-Worthy: 0.654\n",
      "Achieves Equality of Non Credit Worthy Prediction: False\n",
      "Probability of Non Credit-Worthy Female Predicted Credit-Worthy: 0.045\n",
      "Probability of Non Credit-Worthy Male Predicted Credit-Worthy: 0.053\n",
      "Achieves Equality of Credit Worthy Prediction: False\n"
     ]
    }
   ],
   "source": [
    "equalized_odds(fair_df)"
   ]
  },
  {
   "cell_type": "markdown",
   "id": "3WXbvHulIgyx",
   "metadata": {
    "id": "3WXbvHulIgyx"
   },
   "source": [
    "#### Accuracy Equality **5 points**\n",
    "\n",
    "A classifier satisfies this definition if both protected and unprotected groups have equal prediction accuracy – the probability of a subject from either positive or negative class to be assigned to its respective class. The definition assumes that true negatives are as desirable as true positives."
   ]
  },
  {
   "cell_type": "code",
   "execution_count": 15,
   "id": "XNYE0sDVIgyx",
   "metadata": {
    "id": "XNYE0sDVIgyx"
   },
   "outputs": [],
   "source": [
    "def accuracy_equality(df):\n",
    "    \"\"\"\n",
    "    TODO: Add your code here\n",
    "    \"\"\"\n",
    "\n",
    "    # Accuracy = (TP+TN)/all-samples\n",
    "    female_t = df[(df['sex'] == 1) & (df['confusion_matrix'].isin(['TP', 'TN']))].shape[0]\n",
    "    accuracy_female = female_t / (df[(df['sex'] == 1)].shape[0])\n",
    "    male_t = df[(df['sex'] == 0) & (df['confusion_matrix'].isin(['TP', 'TN']))].shape[0]\n",
    "    accuracy_male = male_t / (df[(df['sex'] == 0)].shape[0])\n",
    "    \n",
    "    print('Female Accuracy: %.3f' % accuracy_female)\n",
    "    print('Male Accuracy: %.3f' % accuracy_male)\n",
    "    \n",
    "    abs_difference = abs(accuracy_female - accuracy_male)\n",
    "    print('Equality of Accuracy: %r' % (abs_difference < 0.001))"
   ]
  },
  {
   "cell_type": "code",
   "execution_count": 16,
   "id": "6eTVMEYUIgyx",
   "metadata": {
    "id": "6eTVMEYUIgyx"
   },
   "outputs": [
    {
     "name": "stdout",
     "output_type": "stream",
     "text": [
      "Female Accuracy: 0.826\n",
      "Male Accuracy: 0.808\n",
      "Equality of Accuracy: False\n"
     ]
    }
   ],
   "source": [
    "accuracy_equality(fair_df)"
   ]
  },
  {
   "cell_type": "markdown",
   "id": "PoRTz4-OIgy2",
   "metadata": {
    "id": "PoRTz4-OIgy2"
   },
   "source": [
    "#### Treatment Equality **5 points**\n",
    "This definition looks at the ratio of errors that the classifier makes rather than at its accuracy. A\n",
    "classifier satisfies this definition if both protected and unprotected groups have an equal ratio of false negatives and false positives.\n",
    "\n",
    "$$\\frac{FN_{male}}{FP_{male}}=\\frac{FN_{female}}{FP_{female}}$$"
   ]
  },
  {
   "cell_type": "code",
   "execution_count": 17,
   "id": "3lANP6dXIgy2",
   "metadata": {
    "id": "3lANP6dXIgy2"
   },
   "outputs": [],
   "source": [
    "def treatment_equality(df):\n",
    "    \"\"\"\n",
    "    TODO: Add your code here\n",
    "    \"\"\"\n",
    "    \n",
    "    female = df[(df['sex'] == 1)]\n",
    "    ratio_female = (female[female['confusion_matrix'] == 'FN'].shape[0] / \n",
    "        female[female['confusion_matrix'] == 'FP'].shape[0])\n",
    "\n",
    "    male = df[(df['sex'] == 0)]\n",
    "    ratio_male = (male[male['confusion_matrix'] == 'FN'].shape[0] / \n",
    "        male[male['confusion_matrix'] == 'FP'].shape[0])\n",
    "\n",
    "    print('Female Ratio of Errors: %.3f' % ratio_female)\n",
    "    print('Male Ratio of Errors: %.3f' % ratio_male)\n",
    "    \n",
    "    abs_difference = abs(ratio_female - ratio_male)\n",
    "    print('Achieves Treatment Equality: %r' % (abs_difference < 0.001))"
   ]
  },
  {
   "cell_type": "code",
   "execution_count": 18,
   "id": "T4lpnurKIgy2",
   "metadata": {
    "id": "T4lpnurKIgy2"
   },
   "outputs": [
    {
     "name": "stdout",
     "output_type": "stream",
     "text": [
      "Female Ratio of Errors: 3.837\n",
      "Male Ratio of Errors: 3.773\n",
      "Achieves Treatment Equality: False\n"
     ]
    }
   ],
   "source": [
    "treatment_equality(fair_df)"
   ]
  },
  {
   "cell_type": "markdown",
   "id": "fmYMg7bvIgy3",
   "metadata": {
    "id": "fmYMg7bvIgy3"
   },
   "source": [
    "## Q3 Mitigating Algorithmic Bias through Pre-Processing and Post-Processing\n",
    "Satisfying algorithmic fairness definitions can be done through a variety of methods, including pre-, in-, and post-processing. In this homework, we will explore pre-processing and post-processing as approaches to mitigate algorthmic bias."
   ]
  },
  {
   "cell_type": "markdown",
   "id": "kX-LMGjLIgy3",
   "metadata": {
    "id": "kX-LMGjLIgy3"
   },
   "source": [
    "### Pre-Processing\n",
    "We will start with pre-processing methods. Pre-processing methods alter the dataset in order to satisfy one or more fairness metrics."
   ]
  },
  {
   "cell_type": "markdown",
   "id": "ckrONM9pIgy3",
   "metadata": {
    "id": "ckrONM9pIgy3"
   },
   "source": [
    "#### Fairness through Unawareness **5 points**\n",
    "Fairness through unawareness is an approach to fairness mitigation in which protected/sensitive attributes are not used to train the model. Run the model without the feature for **sex**. This approach is known as fairness through unwareness.\n",
    "\n",
    "Source: [Fairness Through Unwareness](https://ocw.mit.edu/resources/res-ec-001-exploring-fairness-in-machine-learning-for-international-development-spring-2020/module-three-framework/fairness-criteria/MITRES_EC001S19_video6.pdf)"
   ]
  },
  {
   "cell_type": "code",
   "execution_count": 19,
   "id": "efAUBbWsIgy3",
   "metadata": {
    "id": "efAUBbWsIgy3"
   },
   "outputs": [
    {
     "name": "stdout",
     "output_type": "stream",
     "text": [
      "0.8196666666666667 0.7664197661662738\n"
     ]
    }
   ],
   "source": [
    "# preprocessing code for Taiwan Default dataset\n",
    "\n",
    "def load_dataset_unawareness(filename='default of credit card clients.xls'):\n",
    "    # Load the dataset\n",
    "    df = pd.read_excel(filename, header=1)\n",
    "\n",
    "    '''\n",
    "    TODO: Add your code here to drop the 'sex' feature\n",
    "    '''\n",
    "\n",
    "    # Define categorical and numerical features\n",
    "    categorical_features = ['EDUCATION', 'MARRIAGE', 'PAY_0', 'PAY_2', 'PAY_3', 'PAY_4', 'PAY_5', 'PAY_6']\n",
    "    numerical_features = ['LIMIT_BAL', 'AGE', 'BILL_AMT1', 'BILL_AMT2', 'BILL_AMT3', 'BILL_AMT4', 'BILL_AMT5', 'BILL_AMT6',\n",
    "                          'PAY_AMT1', 'PAY_AMT2', 'PAY_AMT3', 'PAY_AMT4', 'PAY_AMT5', 'PAY_AMT6']\n",
    "\n",
    "    # Separate features and target variable\n",
    "    X = df.drop(columns=['ID', 'default payment next month','SEX']) \n",
    "    y = df['default payment next month']\n",
    "\n",
    "    # Preprocessing: One-hot encoding for categorical variables and scaling for numerical variables\n",
    "    preprocessor = ColumnTransformer(\n",
    "        transformers=[\n",
    "            ('num', StandardScaler(), numerical_features),\n",
    "            ('cat', OneHotEncoder(handle_unknown='ignore'), categorical_features)\n",
    "        ])\n",
    "\n",
    "    # Extract gender as a binary attribute before any transformations\n",
    "    gender_binary = df['SEX'].apply(lambda x: 1 if x == 2 else 0)\n",
    "\n",
    "    # Split the dataset into training and testing sets with a fixed random state for reproducibility\n",
    "    X_train_full, X_test_full, y_train, y_test, gender_train, gender_test = train_test_split(X, y, gender_binary, test_size=0.2, random_state=42)\n",
    "\n",
    "    # Apply preprocessing to training and testing set separately\n",
    "    X_train_processed = preprocessor.fit_transform(X_train_full)\n",
    "    X_test_processed = preprocessor.transform(X_test_full)\n",
    "\n",
    "    # Return processed training and testing sets along with gender attributes\n",
    "    return X_train_processed, X_test_processed, y_train, y_test, gender_train.values, gender_test.values\n",
    "\n",
    "# preprocess and load the data\n",
    "X_train, X_test, y_train, y_test, gender_train, gender_test = load_dataset_unawareness()\n",
    "\n",
    "# train a model and obtain predictions on the test set\n",
    "y_pred, y_pred_proba = train_and_predict_model(X_train, X_test, y_train)\n",
    "\n",
    "# Evaluate the model\n",
    "accuracy = accuracy_score(y_test, y_pred)\n",
    "auc = roc_auc_score(y_test, y_pred_proba)\n",
    "\n",
    "print(accuracy, auc)\n",
    "\n",
    "# Female = 1 and Male = 0\n",
    "fair_df = pd.DataFrame({'sex': gender_test, 'y_true': y_test, 'y_pred': y_pred})\n",
    "fair_df['confusion_matrix'] = fair_df[['y_true','y_pred']].apply(determine_confusion_matrix, axis=1)"
   ]
  },
  {
   "cell_type": "markdown",
   "id": "2pDMAENvIgy3",
   "metadata": {
    "id": "2pDMAENvIgy3"
   },
   "source": [
    "Use the fairness measurement functions you created to measure the fairness of this method."
   ]
  },
  {
   "cell_type": "code",
   "execution_count": 20,
   "id": "Ze2VX9vQIgy3",
   "metadata": {
    "id": "Ze2VX9vQIgy3"
   },
   "outputs": [
    {
     "name": "stdout",
     "output_type": "stream",
     "text": [
      "Female Probability of Positive Predictions: 0.110\n",
      "Male Probability of Positive Predictions: 0.116\n",
      "Achieves Statistical Parity: False\n",
      "Female Probability of True Positive Predictions: 0.665\n",
      "Male Probability of True Positive Predictions: 0.680\n",
      "Achieves Predictive Parity: False\n",
      "Probability of Credit-Worthy Female Predicted Not Credit-Worthy: 0.649\n",
      "Probability of Credit-Worthy Male Predicted Not Credit-Worthy: 0.662\n",
      "Achieves Equality of Non Credit Worthy Prediction: False\n",
      "Probability of Non Credit-Worthy Female Predicted Credit-Worthy: 0.047\n",
      "Probability of Non Credit-Worthy Male Predicted Credit-Worthy: 0.048\n",
      "Achieves Equality of Credit Worthy Prediction: False\n",
      "Female Accuracy: 0.827\n",
      "Male Accuracy: 0.809\n",
      "Equality of Accuracy: False\n",
      "Female Ratio of Errors: 3.677\n",
      "Male Ratio of Errors: 4.169\n",
      "Achieves Treatment Equality: False\n"
     ]
    }
   ],
   "source": [
    "statistical_parity(fair_df)\n",
    "predictive_parity(fair_df)\n",
    "equalized_odds(fair_df)\n",
    "accuracy_equality(fair_df)\n",
    "treatment_equality(fair_df)"
   ]
  },
  {
   "cell_type": "markdown",
   "id": "dJB6UhdKIgy3",
   "metadata": {
    "id": "dJB6UhdKIgy3"
   },
   "source": [
    "#### Reweighing **5 points**\n",
    "Reweighing assigns weights for each tuple in the dataset. For those with marginalized protected attributes, positive outcomes will receive greater weights than negative outcomes. For those with non-marginalized sensitive attributes, negative outcomes will receive greater weights than positive outcomes. We assume that we want to remove all discrimination while maintaining the overall positive class probability.\n",
    "\n",
    "For $s \\in \\{m,f\\}$ and $c \\in \\{0,1\\}$, we define the 'unbiased' weights as:\n",
    "$$W(s,c)=\\frac{|X(S)=s| \\times |X(C)=c|}{|D| \\times | X(S)=s \\cap X(C)=c|}$$\n",
    "where $W$ is the reweight function, $D$ is the dataset, $X \\in D$ represents a point in the dataset, $c \\in C$ represents the classes, and $s \\in S$ represents the sensitive attribute of interest.\n",
    "\n",
    "In our case, we should have 4 different weights.\n",
    "\n",
    "Source: [Data preprocessing techniques for classification without discrimination](https://core.ac.uk/download/pdf/81728147.pdf) - See Algorithm 3"
   ]
  },
  {
   "cell_type": "markdown",
   "id": "JQdWwpUpIgy3",
   "metadata": {
    "id": "JQdWwpUpIgy3"
   },
   "source": [
    "**Reweigh the dataset and then create a model for the new dataset.**"
   ]
  },
  {
   "cell_type": "code",
   "execution_count": 21,
   "id": "frAuqEyXIgy3",
   "metadata": {
    "id": "frAuqEyXIgy3"
   },
   "outputs": [],
   "source": [
    "def calculate_weights(df):\n",
    "    # variables to reflect the number of certain attributes\n",
    "    # add other variables if desired\n",
    "    dataset_size = 24000\n",
    "    male_size = 9532\n",
    "    female_size = 14468\n",
    "\n",
    "    \"\"\"TODO: add your code here\"\"\"\n",
    "    # To determine the negative variables (i.e., y = 0), simply subtract\n",
    "    # the following variables from male_size or female_size\n",
    "    male_1_size = df[(df['sex'] == 0) & (df['y_true'] == 1)].shape[0]\n",
    "    female_1_size = df[(df['sex'] == 1) & (df['y_true'] == 1)].shape[0]\n",
    "    male_0_size = male_size - male_1_size\n",
    "    female_0_size = female_size - female_1_size\n",
    "\n",
    "    # reweighting scheme for each scenario\n",
    "    w_male_0 = (male_size * (male_0_size + female_0_size)) / (dataset_size * male_0_size)\n",
    "    w_male_1 = (male_size * (male_1_size + female_1_size)) / (dataset_size * male_1_size)\n",
    "    w_female_0 = (female_size * (male_0_size + female_0_size)) / (dataset_size * female_0_size)\n",
    "    w_female_1 = (female_size * (male_1_size + female_1_size)) / (dataset_size * female_1_size)\n",
    "    \n",
    "    return w_male_0, w_male_1, w_female_0, w_female_1"
   ]
  },
  {
   "cell_type": "code",
   "execution_count": 22,
   "id": "PAbU6NcVIgy3",
   "metadata": {
    "id": "PAbU6NcVIgy3"
   },
   "outputs": [],
   "source": [
    "def reweigh_df(df):\n",
    "    \"\"\"\n",
    "    Multiply each reweighting scheme by the appropriate subset of the dataset\n",
    "    \"\"\"\n",
    "    # Get the reweighting scheme\n",
    "    w_male_0, w_male_1, w_female_0, w_female_1 = calculate_weights(df)\n",
    "\n",
    "    '''\n",
    "    TODO: add code here\n",
    "    '''\n",
    "    weights = []\n",
    "    for _, row in df.iterrows():\n",
    "        if row['sex'] == 0:\n",
    "            if row['y_true'] == 0:\n",
    "                weights.append(w_male_0)\n",
    "            else:\n",
    "                weights.append(w_male_1)\n",
    "        elif row['sex'] == 1:\n",
    "            if row['y_true'] == 0:\n",
    "                weights.append(w_female_0)\n",
    "            else:\n",
    "                weights.append(w_female_1)\n",
    "\n",
    "    df['weight'] = weights\n",
    "\n",
    "    return df"
   ]
  },
  {
   "cell_type": "code",
   "execution_count": 23,
   "id": "0udlB4W0Igy4",
   "metadata": {
    "id": "0udlB4W0Igy4"
   },
   "outputs": [
    {
     "name": "stdout",
     "output_type": "stream",
     "text": [
      "(24000,)\n",
      "weight\n",
      "0.982643    11508\n",
      "1.027550     7169\n",
      "1.066074     3010\n",
      "0.914016     2313\n",
      "Name: count, dtype: int64\n",
      "0.8191666666666667 0.7660632518750717\n"
     ]
    }
   ],
   "source": [
    "# Female = 1 and Male = 0\n",
    "X_train, X_test, y_train, y_test, gender_train, gender_test = load_dataset()\n",
    "df_weight = reweigh_df(pd.DataFrame({'sex': gender_train, 'y_true': y_train}))\n",
    "print(y_train.shape)\n",
    "print(df_weight['weight'].value_counts())\n",
    "y_pred, y_pred_proba = train_and_predict_model(X_train, X_test, y_train, df_weight['weight'])\n",
    "accuracy = accuracy_score(y_test, y_pred)\n",
    "auc = roc_auc_score(y_test, y_pred_proba)\n",
    "\n",
    "print(accuracy, auc)\n",
    "\n",
    "fair_df = pd.DataFrame({'sex': gender_test, 'y_true': y_test, 'y_pred': y_pred})\n",
    "fair_df['confusion_matrix'] = fair_df[['y_true','y_pred']].apply(determine_confusion_matrix, axis=1)"
   ]
  },
  {
   "cell_type": "markdown",
   "id": "Nb0_jabhIgy4",
   "metadata": {
    "id": "Nb0_jabhIgy4"
   },
   "source": [
    "Use the fairness measurement functions you created to measure the fairness of this method."
   ]
  },
  {
   "cell_type": "code",
   "execution_count": 24,
   "id": "2b49rS4iIgy4",
   "metadata": {
    "id": "2b49rS4iIgy4"
   },
   "outputs": [
    {
     "name": "stdout",
     "output_type": "stream",
     "text": [
      "Female Probability of Positive Predictions: 0.112\n",
      "Male Probability of Positive Predictions: 0.114\n",
      "Achieves Statistical Parity: False\n",
      "Female Probability of True Positive Predictions: 0.657\n",
      "Male Probability of True Positive Predictions: 0.686\n",
      "Achieves Predictive Parity: False\n",
      "Probability of Credit-Worthy Female Predicted Not Credit-Worthy: 0.649\n",
      "Probability of Credit-Worthy Male Predicted Not Credit-Worthy: 0.664\n",
      "Achieves Equality of Non Credit Worthy Prediction: False\n",
      "Probability of Non Credit-Worthy Female Predicted Credit-Worthy: 0.049\n",
      "Probability of Non Credit-Worthy Male Predicted Credit-Worthy: 0.047\n",
      "Achieves Equality of Credit Worthy Prediction: False\n",
      "Female Accuracy: 0.826\n",
      "Male Accuracy: 0.810\n",
      "Equality of Accuracy: False\n",
      "Female Ratio of Errors: 3.543\n",
      "Male Ratio of Errors: 4.326\n",
      "Achieves Treatment Equality: False\n"
     ]
    }
   ],
   "source": [
    "statistical_parity(fair_df)\n",
    "predictive_parity(fair_df)\n",
    "equalized_odds(fair_df)\n",
    "accuracy_equality(fair_df)\n",
    "treatment_equality(fair_df)"
   ]
  },
  {
   "cell_type": "code",
   "execution_count": null,
   "id": "lJUCEjHvid0F",
   "metadata": {
    "id": "lJUCEjHvid0F"
   },
   "outputs": [],
   "source": []
  },
  {
   "cell_type": "markdown",
   "id": "zmhXKUeeIgy4",
   "metadata": {
    "id": "zmhXKUeeIgy4"
   },
   "source": [
    "#### Relabeling **5 points**\n",
    "Another approach to pre-processing is relabeling. Relabeling changes the labels of some objects in the dataset in order to attempt to remove the discrimination from the input data.\n",
    "\n",
    "One way to relabel the data is to identify likely unfair/discriminatory decisions and correct these by changing the outcome to what ought to have happened. The other way is to change the labeled sensitive class rather than the outcome, and this can be done either randomly or in a systematic way to correct discrimination.\n",
    "\n",
    "Let's keep it simple. Randomly reassign the sensitive attribute **sex** of each individual data point and create a model for this new dataset."
   ]
  },
  {
   "cell_type": "code",
   "execution_count": 25,
   "id": "sv8lh-48Igy4",
   "metadata": {
    "id": "sv8lh-48Igy4"
   },
   "outputs": [
    {
     "name": "stdout",
     "output_type": "stream",
     "text": [
      "0.8196666666666667 0.7663871046473442\n"
     ]
    }
   ],
   "source": [
    "# preprocessing code for Taiwan Default dataset\n",
    "import random\n",
    "\n",
    "def load_dataset_relabel(filename='default of credit card clients.xls'):\n",
    "    # Load the dataset\n",
    "    df = pd.read_excel(filename, header=1)\n",
    "\n",
    "    '''\n",
    "    TODO: Add code here to randomly reassign 'sex' of each individual datapoint\n",
    "    '''\n",
    "    # Define categorical and numerical features\n",
    "    categorical_features = ['SEX', 'EDUCATION', 'MARRIAGE', 'PAY_0', 'PAY_2', 'PAY_3', 'PAY_4', 'PAY_5', 'PAY_6']\n",
    "    numerical_features = ['LIMIT_BAL', 'AGE', 'BILL_AMT1', 'BILL_AMT2', 'BILL_AMT3', 'BILL_AMT4', 'BILL_AMT5', 'BILL_AMT6',\n",
    "                          'PAY_AMT1', 'PAY_AMT2', 'PAY_AMT3', 'PAY_AMT4', 'PAY_AMT5', 'PAY_AMT6']\n",
    "\n",
    "    # randomly assign gender\n",
    "    for _, row in df.iterrows():\n",
    "        row['SEX'] = random.randint(1, 2)\n",
    "\n",
    "    # Separate features and target variable\n",
    "    X = df.drop(columns=['ID', 'default payment next month'])\n",
    "    y = df['default payment next month']\n",
    "\n",
    "    # Preprocessing: One-hot encoding for categorical variables and scaling for numerical variables\n",
    "    preprocessor = ColumnTransformer(\n",
    "        transformers=[\n",
    "            ('num', StandardScaler(), numerical_features),\n",
    "            ('cat', OneHotEncoder(handle_unknown='ignore'), categorical_features)\n",
    "        ])\n",
    "\n",
    "    # Extract gender as a binary attribute before any transformations\n",
    "    gender_binary = df['SEX'].apply(lambda x: 1 if x == 2 else 0)\n",
    "\n",
    "    # Split the dataset into training and testing sets with a fixed random state for reproducibility\n",
    "    X_train_full, X_test_full, y_train, y_test, gender_train, gender_test = train_test_split(X, y, gender_binary, test_size=0.2, random_state=42)\n",
    "\n",
    "    # Apply preprocessing to training and testing set separately\n",
    "    X_train_processed = preprocessor.fit_transform(X_train_full)\n",
    "    X_test_processed = preprocessor.transform(X_test_full)\n",
    "\n",
    "    # Return processed training and testing sets along with gender attributes\n",
    "    return X_train_processed, X_test_processed, y_train, y_test, gender_train.values, gender_test.values\n",
    "\n",
    "# preprocess and load the data\n",
    "X_train, X_test, y_train, y_test, gender_train, gender_test = load_dataset_relabel()\n",
    "\n",
    "# train a model and obtain predictions on the test set\n",
    "y_pred, y_pred_proba = train_and_predict_model(X_train, X_test, y_train)\n",
    "\n",
    "# Evaluate the model\n",
    "accuracy = accuracy_score(y_test, y_pred)\n",
    "auc = roc_auc_score(y_test, y_pred_proba)\n",
    "\n",
    "print(accuracy, auc)\n",
    "\n",
    "# Female = 1 and Male = 0\n",
    "fair_df = pd.DataFrame({'sex': gender_test, 'y_true': y_test, 'y_pred': y_pred})\n",
    "fair_df['confusion_matrix'] = fair_df[['y_true','y_pred']].apply(determine_confusion_matrix, axis=1)"
   ]
  },
  {
   "cell_type": "markdown",
   "id": "U8Vm2vO4Igy4",
   "metadata": {
    "id": "U8Vm2vO4Igy4"
   },
   "source": [
    "Use the fairness measurement functions you created to measure the fairness of this method."
   ]
  },
  {
   "cell_type": "code",
   "execution_count": 26,
   "id": "i6h9biyxIgy4",
   "metadata": {
    "id": "i6h9biyxIgy4"
   },
   "outputs": [
    {
     "name": "stdout",
     "output_type": "stream",
     "text": [
      "Female Probability of Positive Predictions: 0.112\n",
      "Male Probability of Positive Predictions: 0.113\n",
      "Achieves Statistical Parity: True\n",
      "Female Probability of True Positive Predictions: 0.664\n",
      "Male Probability of True Positive Predictions: 0.679\n",
      "Achieves Predictive Parity: False\n",
      "Probability of Credit-Worthy Female Predicted Not Credit-Worthy: 0.661\n",
      "Probability of Credit-Worthy Male Predicted Not Credit-Worthy: 0.649\n",
      "Achieves Equality of Non Credit Worthy Prediction: False\n",
      "Probability of Non Credit-Worthy Female Predicted Credit-Worthy: 0.048\n",
      "Probability of Non Credit-Worthy Male Predicted Credit-Worthy: 0.046\n",
      "Achieves Equality of Credit Worthy Prediction: False\n",
      "Female Accuracy: 0.817\n",
      "Male Accuracy: 0.822\n",
      "Equality of Accuracy: False\n",
      "Female Ratio of Errors: 3.842\n",
      "Male Ratio of Errors: 3.907\n",
      "Achieves Treatment Equality: False\n"
     ]
    }
   ],
   "source": [
    "statistical_parity(fair_df)\n",
    "predictive_parity(fair_df)\n",
    "equalized_odds(fair_df)\n",
    "accuracy_equality(fair_df)\n",
    "treatment_equality(fair_df)"
   ]
  },
  {
   "cell_type": "code",
   "execution_count": null,
   "id": "df831ef1-1c26-4cbc-9c10-3fab9b9e5e75",
   "metadata": {},
   "outputs": [],
   "source": []
  }
 ],
 "metadata": {
  "colab": {
   "provenance": []
  },
  "kernelspec": {
   "display_name": "COS520",
   "language": "python",
   "name": "cos520"
  },
  "language_info": {
   "codemirror_mode": {
    "name": "ipython",
    "version": 3
   },
   "file_extension": ".py",
   "mimetype": "text/x-python",
   "name": "python",
   "nbconvert_exporter": "python",
   "pygments_lexer": "ipython3",
   "version": "3.8.18"
  }
 },
 "nbformat": 4,
 "nbformat_minor": 5
}
